{
 "cells": [
  {
   "cell_type": "code",
   "execution_count": null,
   "metadata": {},
   "outputs": [],
   "source": [
    "# libraries\n",
    "library(tidyverse)\n",
    "library(tsibble)\n",
    "library(tidycovid19)"
   ]
  },
  {
   "cell_type": "code",
   "execution_count": null,
   "metadata": {},
   "outputs": [],
   "source": [
    "updates <- download_merged_data(cached = TRUE)"
   ]
  },
  {
   "cell_type": "code",
   "execution_count": null,
   "metadata": {},
   "outputs": [],
   "source": []
  },
  {
   "cell_type": "code",
   "execution_count": null,
   "metadata": {},
   "outputs": [],
   "source": [
    "updates"
   ]
  },
  {
   "cell_type": "code",
   "execution_count": null,
   "metadata": {},
   "outputs": [],
   "source": []
  },
  {
   "cell_type": "code",
   "execution_count": null,
   "metadata": {},
   "outputs": [],
   "source": [
    "test = updates[c('country', 'iso3c', 'date', 'confirmed')]"
   ]
  },
  {
   "cell_type": "code",
   "execution_count": null,
   "metadata": {},
   "outputs": [],
   "source": [
    "test1 = head(test %>% sample_frac(0.01))"
   ]
  },
  {
   "cell_type": "code",
   "execution_count": null,
   "metadata": {},
   "outputs": [],
   "source": [
    "test1"
   ]
  },
  {
   "cell_type": "code",
   "execution_count": null,
   "metadata": {},
   "outputs": [],
   "source": [
    "test1$is_retweet <- ifelse(grepl(\"\", test1$country), FALSE, TRUE)"
   ]
  },
  {
   "cell_type": "code",
   "execution_count": null,
   "metadata": {},
   "outputs": [],
   "source": [
    "test1"
   ]
  },
  {
   "cell_type": "code",
   "execution_count": null,
   "metadata": {},
   "outputs": [],
   "source": [
    "is_retweet <- ifelse(grepl(\"\", test1$country), TRUE, FALSE)"
   ]
  },
  {
   "cell_type": "code",
   "execution_count": null,
   "metadata": {},
   "outputs": [],
   "source": [
    "is_retweet"
   ]
  },
  {
   "cell_type": "code",
   "execution_count": null,
   "metadata": {},
   "outputs": [],
   "source": [
    "test1$test <- c('https', NA, 'https', NA, 'https', 'https')"
   ]
  },
  {
   "cell_type": "code",
   "execution_count": null,
   "metadata": {},
   "outputs": [],
   "source": [
    "test1"
   ]
  },
  {
   "cell_type": "code",
   "execution_count": null,
   "metadata": {},
   "outputs": [],
   "source": [
    "test1$is_retweet2 <- ifelse(grepl(\"\", test1$test), TRUE, FALSE)"
   ]
  },
  {
   "cell_type": "code",
   "execution_count": null,
   "metadata": {},
   "outputs": [],
   "source": [
    "test1"
   ]
  },
  {
   "cell_type": "code",
   "execution_count": null,
   "metadata": {},
   "outputs": [],
   "source": []
  },
  {
   "cell_type": "code",
   "execution_count": null,
   "metadata": {},
   "outputs": [],
   "source": []
  },
  {
   "cell_type": "code",
   "execution_count": null,
   "metadata": {},
   "outputs": [],
   "source": []
  },
  {
   "cell_type": "code",
   "execution_count": null,
   "metadata": {},
   "outputs": [],
   "source": []
  },
  {
   "cell_type": "code",
   "execution_count": null,
   "metadata": {},
   "outputs": [],
   "source": [
    "# Countries to highlight\n",
    "countries <- c(\"FRA\", \"ITA\", 'ESP')\n",
    "updates %>%\n",
    "  plot_covid19_spread(\n",
    "    highlight = countries,\n",
    "    type = \"confirmed\",\n",
    "    edate_cutoff = 40\n",
    "  )"
   ]
  },
  {
   "cell_type": "code",
   "execution_count": null,
   "metadata": {},
   "outputs": [],
   "source": [
    "updates %>%\n",
    "  mutate(cases_logratio = difference(log(confirmed))) %>%\n",
    "  filter(\n",
    "    iso3c %in% countries,\n",
    "    date >= as.Date(\"2020-03-01\")\n",
    "  ) %>%\n",
    "  ggplot(aes(x = date, y = cases_logratio, col = country)) +\n",
    "    geom_point() +\n",
    "    geom_smooth(method = \"loess\") +\n",
    "    facet_wrap(. ~ country, ncol = 1) +\n",
    "    xlab(\"Date\")"
   ]
  },
  {
   "cell_type": "code",
   "execution_count": null,
   "metadata": {},
   "outputs": [],
   "source": [
    "updates %>%\n",
    "  mutate(\n",
    "    cases_logratio = difference(log(confirmed))\n",
    "  ) %>%\n",
    "  filter(iso3c %in% countries) %>%\n",
    "  filter(date >= as.Date(\"2020-03-01\")) %>%\n",
    "  ggplot(aes(x = date, y = cases_logratio, col = country)) +\n",
    "  geom_hline(yintercept = log(2)/c(2:7,14,21), col='grey') +\n",
    "  geom_smooth(method = \"loess\", se = FALSE) +\n",
    "  scale_y_continuous(\n",
    "   \"Daily increase in cumulative cases\",\n",
    "    breaks = log(1+seq(0,60,by=10)/100),\n",
    "    labels = paste0(seq(0,60,by=10),\"%\"),\n",
    "    minor_breaks=NULL,\n",
    "    sec.axis = sec_axis(~ log(2)/(.),\n",
    "      breaks = c(2:7,14,21),\n",
    "      name = \"Doubling time (days)\")\n",
    "  )"
   ]
  },
  {
   "cell_type": "code",
   "execution_count": null,
   "metadata": {},
   "outputs": [],
   "source": [
    "updates %>%\n",
    "    filter(iso3c == 'MEX')"
   ]
  },
  {
   "cell_type": "code",
   "execution_count": null,
   "metadata": {},
   "outputs": [],
   "source": [
    "colnames(updates)"
   ]
  },
  {
   "cell_type": "code",
   "execution_count": null,
   "metadata": {},
   "outputs": [],
   "source": [
    "test = updates %>%\n",
    "    mutate(\n",
    "        cases_logratio = difference(log(confirmed))\n",
    "    ) %>%\n",
    "    mutate(\n",
    "    )\n",
    "    filter(iso3c == 'MEX')\n",
    "    filter(date >= \"2020-03-01\")"
   ]
  },
  {
   "cell_type": "code",
   "execution_count": null,
   "metadata": {},
   "outputs": [],
   "source": [
    "hist(test$cases_logratio)"
   ]
  },
  {
   "cell_type": "code",
   "execution_count": null,
   "metadata": {},
   "outputs": [],
   "source": [
    "ggplot(data=test, aes(x=date, y=cases_logratio)) +\n",
    "    geom_bar(stat=\"identity\")"
   ]
  },
  {
   "cell_type": "code",
   "execution_count": null,
   "metadata": {},
   "outputs": [],
   "source": [
    "test[c('date', 'confirmed', 'cases_logratio')]"
   ]
  },
  {
   "cell_type": "code",
   "execution_count": null,
   "metadata": {},
   "outputs": [],
   "source": []
  },
  {
   "cell_type": "code",
   "execution_count": null,
   "metadata": {},
   "outputs": [],
   "source": [
    "log(c(203, 251))"
   ]
  },
  {
   "cell_type": "code",
   "execution_count": null,
   "metadata": {},
   "outputs": [],
   "source": []
  },
  {
   "cell_type": "code",
   "execution_count": null,
   "metadata": {},
   "outputs": [],
   "source": [
    "test2 = updates %>%\n",
    "    mutate(\n",
    "        confirmed_log = log(confirmed)\n",
    "    ) %>%\n",
    "    mutate(\n",
    "        confirmed_logratio = difference(log(confirmed))\n",
    "    ) %>%\n",
    "    filter(iso3c == 'MEX')"
   ]
  },
  {
   "cell_type": "code",
   "execution_count": null,
   "metadata": {},
   "outputs": [],
   "source": [
    "test3 <- test2[c('date', 'confirmed', 'confirmed_log', 'confirmed_logratio')]"
   ]
  },
  {
   "cell_type": "code",
   "execution_count": null,
   "metadata": {},
   "outputs": [],
   "source": [
    "test3"
   ]
  },
  {
   "cell_type": "code",
   "execution_count": null,
   "metadata": {},
   "outputs": [],
   "source": []
  },
  {
   "cell_type": "code",
   "execution_count": null,
   "metadata": {},
   "outputs": [],
   "source": [
    "library(\"writexl\")"
   ]
  },
  {
   "cell_type": "code",
   "execution_count": null,
   "metadata": {},
   "outputs": [],
   "source": [
    "write_xlsx(test3, './data/R/test_mex.xlsx')"
   ]
  },
  {
   "cell_type": "code",
   "execution_count": null,
   "metadata": {},
   "outputs": [],
   "source": []
  }
 ],
 "metadata": {
  "kernelspec": {
   "display_name": "R",
   "language": "R",
   "name": "ir"
  },
  "language_info": {
   "codemirror_mode": "r",
   "file_extension": ".r",
   "mimetype": "text/x-r-source",
   "name": "R",
   "pygments_lexer": "r",
   "version": "3.6.3"
  }
 },
 "nbformat": 4,
 "nbformat_minor": 2
}
