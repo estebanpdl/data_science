{
 "cells": [
  {
   "cell_type": "code",
   "execution_count": null,
   "metadata": {},
   "outputs": [],
   "source": [
    "# warnings\n",
    "import warnings\n",
    "warnings.filterwarnings('ignore')\n",
    "\n",
    "# import modules\n",
    "import os\n",
    "import glob\n",
    "import json\n",
    "import random\n",
    "import requests\n",
    "import pandas as pd\n",
    "import numpy as np\n",
    "\n",
    "from scipy import stats\n",
    "from datetime import timedelta\n",
    "from collections import Counter\n",
    "\n",
    "# plots\n",
    "import matplotlib\n",
    "import matplotlib.pyplot as plt\n",
    "import matplotlib.dates as mdates\n",
    "import seaborn as sns; sns.set()\n",
    "\n",
    "%matplotlib inline\n",
    "matplotlib.style.use('seaborn-ticks')"
   ]
  },
  {
   "cell_type": "markdown",
   "metadata": {},
   "source": [
    "### `load data`"
   ]
  },
  {
   "cell_type": "markdown",
   "metadata": {},
   "source": [
    "`COVID data`"
   ]
  },
  {
   "cell_type": "code",
   "execution_count": null,
   "metadata": {},
   "outputs": [],
   "source": [
    "covid_path = './data/covid_19_data.csv'\n",
    "covid_data = pd.read_csv(covid_path, encoding='utf-8')\n",
    "\n",
    "# columns lower\n",
    "covid_data.columns = [i.lower() for i in covid_data.columns]\n",
    "\n",
    "# fillna values -> 0 [confirmed, deaths, recovered] -> astype INT\n",
    "cols = ['confirmed', 'deaths', 'recovered']\n",
    "for c in cols:\n",
    "    covid_data[c] = covid_data[c].fillna(0)\n",
    "    covid_data[c] = covid_data[c].astype(int)\n",
    "\n",
    "# build date\n",
    "covid_data['date'] = pd.to_datetime(covid_data['observationdate'])\n",
    "\n",
    "# fix spaces in country - if any\n",
    "covid_data['country/region'] = [\n",
    "    ' '.join(i.split()).strip() for i in covid_data['country/region']\n",
    "]\n",
    "\n",
    "# sample\n",
    "covid_data.head(1)"
   ]
  },
  {
   "cell_type": "code",
   "execution_count": null,
   "metadata": {},
   "outputs": [],
   "source": []
  },
  {
   "cell_type": "markdown",
   "metadata": {},
   "source": [
    "`Group data`"
   ]
  },
  {
   "cell_type": "code",
   "execution_count": null,
   "metadata": {},
   "outputs": [],
   "source": [
    "df = covid_data.groupby(['country/region', 'date']) \\\n",
    "    .agg(\n",
    "        {\n",
    "            'confirmed': sum,\n",
    "            'deaths': sum,\n",
    "            'recovered': sum\n",
    "        }\n",
    "    ) \\\n",
    "    .reset_index()\n",
    "\n",
    "df.shape"
   ]
  },
  {
   "cell_type": "code",
   "execution_count": null,
   "metadata": {},
   "outputs": [],
   "source": [
    "# fix names\n",
    "df.loc[df['country/region'] == 'US', 'country/region'] = 'United States'\n",
    "df.loc[df['country/region'] == 'Mainland China', 'country/region'] = 'China'\n",
    "df.loc[df['country/region'] == 'UK', 'country/region'] = 'United Kingdom'\n",
    "df.loc[df['country/region'] == \"('St. Martin',)\", 'country/region'] = 'St. Martin'"
   ]
  },
  {
   "cell_type": "code",
   "execution_count": null,
   "metadata": {},
   "outputs": [],
   "source": [
    "df.head(1)"
   ]
  },
  {
   "cell_type": "code",
   "execution_count": null,
   "metadata": {},
   "outputs": [],
   "source": []
  },
  {
   "cell_type": "markdown",
   "metadata": {},
   "source": [
    "`Create Mex dataset`"
   ]
  },
  {
   "cell_type": "code",
   "execution_count": null,
   "metadata": {},
   "outputs": [],
   "source": [
    "covid_mex = df[df['country/region'] == 'Mexico'] \\\n",
    "    .reset_index(drop=True) \\\n",
    "    .copy()\n",
    "\n",
    "# size\n",
    "covid_mex.shape"
   ]
  },
  {
   "cell_type": "code",
   "execution_count": null,
   "metadata": {},
   "outputs": [],
   "source": [
    "def fix_date_and_values(data):\n",
    "    '''\n",
    "    return new dataframe\n",
    "    '''\n",
    "    # internal funct\n",
    "    def fix_date(value):\n",
    "        '''\n",
    "        '''\n",
    "        v = str(value).split()[0]\n",
    "        if v > '2020-03-12':\n",
    "            value = value - timedelta(days=1)\n",
    "            \n",
    "        return value\n",
    "        \n",
    "    default_index = 15\n",
    "    d = data.copy()\n",
    "    \n",
    "    # process\n",
    "    d = d.drop(default_index) \\\n",
    "        .reset_index(drop=True)\n",
    "    \n",
    "    d['date'] = d['date'].apply(fix_date)\n",
    "    return d"
   ]
  },
  {
   "cell_type": "code",
   "execution_count": null,
   "metadata": {},
   "outputs": [],
   "source": [
    "# fix confirmed values in Mex\n",
    "covid_mex.loc[(covid_mex['country/region'] == 'Mexico') & (covid_mex['date'] == '2020-02-28'), 'confirmed'] = 3\n",
    "covid_mex.loc[(covid_mex['country/region'] == 'Mexico') & (covid_mex['date'] == '2020-03-11'), 'confirmed'] = 11\n",
    "covid_mex.loc[(covid_mex['country/region'] == 'Mexico') & (covid_mex['date'] == '2020-03-12'), 'confirmed'] = 15"
   ]
  },
  {
   "cell_type": "code",
   "execution_count": null,
   "metadata": {},
   "outputs": [],
   "source": [
    "covid_mex = fix_date_and_values(covid_mex)\n",
    "covid_mex.shape"
   ]
  },
  {
   "cell_type": "markdown",
   "metadata": {},
   "source": [
    "*sort values*"
   ]
  },
  {
   "cell_type": "code",
   "execution_count": null,
   "metadata": {},
   "outputs": [],
   "source": [
    "covid_mex = covid_mex.sort_values(by=['country/region', 'date']) \\\n",
    "    .reset_index(drop=True)\n",
    "\n",
    "# size\n",
    "covid_mex.shape"
   ]
  },
  {
   "cell_type": "code",
   "execution_count": null,
   "metadata": {},
   "outputs": [],
   "source": [
    "# Fix dates -> adding missing intervals\n",
    "default_date = '2020-01-22'\n",
    "\n",
    "# create time frame\n",
    "default = pd.date_range(\n",
    "    start=pd.to_datetime(default_date),\n",
    "    end=sorted(covid_mex['date'].tolist())[-1],\n",
    "    freq='D'\n",
    ").values\n",
    "\n",
    "\n",
    "# temp dataframe\n",
    "tmp = pd.DataFrame(\n",
    "    {\n",
    "        'date': default\n",
    "    }\n",
    ")\n",
    "tmp['country/region'] = 'Mexico'\n",
    "\n",
    "\n",
    "covid_mex = tmp.merge(covid_mex, how='left') \\\n",
    "        .fillna(0) \\\n",
    "        .reset_index(drop=True)\n",
    "\n",
    "# astype int\n",
    "covid_mex['confirmed'] = covid_mex['confirmed'].astype(int)\n",
    "covid_mex['deaths'] = covid_mex['deaths'].astype(int)\n",
    "covid_mex['recovered'] = covid_mex['recovered'].astype(int)\n",
    "\n",
    "# add outbreak\n",
    "covid_mex['outbreak'] = 'COVID-19'"
   ]
  },
  {
   "cell_type": "code",
   "execution_count": null,
   "metadata": {},
   "outputs": [],
   "source": [
    "covid_mex.head()"
   ]
  },
  {
   "cell_type": "markdown",
   "metadata": {},
   "source": [
    "`add new data  ---> manually`"
   ]
  },
  {
   "cell_type": "markdown",
   "metadata": {},
   "source": [
    "*verify status*"
   ]
  },
  {
   "cell_type": "code",
   "execution_count": null,
   "metadata": {},
   "outputs": [],
   "source": [
    "covid_mex[covid_mex['country/region'] == 'Mexico'][['date', 'confirmed']].tail(1)"
   ]
  },
  {
   "cell_type": "code",
   "execution_count": null,
   "metadata": {},
   "outputs": [],
   "source": [
    "new_data = pd.DataFrame(\n",
    "    [\n",
    "        {\n",
    "            'date': pd.to_datetime('2020-04-05'),\n",
    "            'country/region': 'Mexico',\n",
    "            'confirmed': 2143,\n",
    "            'deaths': 94,\n",
    "            'recovered': 633,\n",
    "            'outbreak': 'COVID-19'\n",
    "        }\n",
    "    ]\n",
    ")"
   ]
  },
  {
   "cell_type": "code",
   "execution_count": null,
   "metadata": {},
   "outputs": [],
   "source": [
    "covid_mex = pd.concat([covid_mex, new_data], sort=True) \\\n",
    "    .reset_index(drop=True)\n",
    "\n",
    "# size\n",
    "covid_mex.shape"
   ]
  },
  {
   "cell_type": "code",
   "execution_count": null,
   "metadata": {},
   "outputs": [],
   "source": []
  },
  {
   "cell_type": "markdown",
   "metadata": {},
   "source": [
    "`get diff and cumsum`"
   ]
  },
  {
   "cell_type": "code",
   "execution_count": null,
   "metadata": {},
   "outputs": [],
   "source": [
    "covid_mex['cases'] = covid_mex['confirmed'].diff().fillna(0) \\\n",
    "    .astype(int)"
   ]
  },
  {
   "cell_type": "code",
   "execution_count": null,
   "metadata": {},
   "outputs": [],
   "source": [
    "covid_mex['cumsum'] = covid_mex['cases'].cumsum()"
   ]
  },
  {
   "cell_type": "markdown",
   "metadata": {},
   "source": [
    "`confirmed and cases pct change`"
   ]
  },
  {
   "cell_type": "code",
   "execution_count": null,
   "metadata": {},
   "outputs": [],
   "source": [
    "covid_mex['confirmed_pct_change'] = covid_mex['confirmed'].pct_change() \\\n",
    "    .replace([np.inf, -np.inf], np.nan) \\\n",
    "    .fillna(0)"
   ]
  },
  {
   "cell_type": "code",
   "execution_count": null,
   "metadata": {},
   "outputs": [],
   "source": [
    "covid_mex['cases_pct_change'] = abs(covid_mex['cases'].pct_change() \\\n",
    "    .replace([np.inf, -np.inf], np.nan) \\\n",
    "    .fillna(0))"
   ]
  },
  {
   "cell_type": "code",
   "execution_count": null,
   "metadata": {},
   "outputs": [],
   "source": []
  },
  {
   "cell_type": "markdown",
   "metadata": {},
   "source": [
    "`get week`"
   ]
  },
  {
   "cell_type": "code",
   "execution_count": null,
   "metadata": {},
   "outputs": [],
   "source": [
    "covid_mex['week'] = covid_mex['date'].dt.week"
   ]
  },
  {
   "cell_type": "markdown",
   "metadata": {},
   "source": [
    "`get number of days`"
   ]
  },
  {
   "cell_type": "code",
   "execution_count": null,
   "metadata": {},
   "outputs": [],
   "source": [
    "n_days = []\n",
    "n = 0\n",
    "for i in range(covid_mex.shape[0]):\n",
    "    val = covid_mex['confirmed'].iloc[i]\n",
    "    \n",
    "    # add days after first case was detected in country\n",
    "    if val > 0:\n",
    "        n += 1\n",
    "    \n",
    "    n_days.append(n)\n",
    "\n",
    "covid_mex['day_number'] = covid_mex.index + 1\n",
    "covid_mex['day_number_country'] = n_days\n",
    "\n",
    "# sample\n",
    "covid_mex.shape"
   ]
  },
  {
   "cell_type": "code",
   "execution_count": null,
   "metadata": {},
   "outputs": [],
   "source": [
    "covid_mex.head(2)"
   ]
  },
  {
   "cell_type": "markdown",
   "metadata": {},
   "source": [
    "`get logs`"
   ]
  },
  {
   "cell_type": "code",
   "execution_count": null,
   "metadata": {},
   "outputs": [],
   "source": [
    "def get_logs(values):\n",
    "    '''\n",
    "    '''\n",
    "    mask = np.ma.log(values.tolist())\n",
    "    return pd.Series(mask.filled(0))"
   ]
  },
  {
   "cell_type": "markdown",
   "metadata": {},
   "source": [
    "#### `diff() - logratio: alternative`\n",
    "\n",
    "    covid_mex['test'] = np.log(covid_mex['confirmed'] / covid_mex['confirmed'].shift()) \\\n",
    "        .replace([np.inf, -np.inf], np.nan) \\\n",
    "        .fillna(0)\n",
    "        \n",
    "    ...\n",
    "    \n",
    "    covid_mex['cases_logratio'] = abs(covid_mex['cases_log'].diff()).fillna(0) \\\n",
    "    .astype(float)"
   ]
  },
  {
   "cell_type": "markdown",
   "metadata": {},
   "source": [
    "_by new cases_"
   ]
  },
  {
   "cell_type": "code",
   "execution_count": null,
   "metadata": {},
   "outputs": [],
   "source": [
    "covid_mex['cases_log'] = get_logs(covid_mex['cases'])"
   ]
  },
  {
   "cell_type": "code",
   "execution_count": null,
   "metadata": {},
   "outputs": [],
   "source": [
    "covid_mex['cases_logratio'] = abs(covid_mex['cases_log'].diff()).fillna(0) \\\n",
    "    .astype(float)"
   ]
  },
  {
   "cell_type": "markdown",
   "metadata": {},
   "source": [
    "_by confirmed cases_"
   ]
  },
  {
   "cell_type": "code",
   "execution_count": null,
   "metadata": {},
   "outputs": [],
   "source": [
    "covid_mex['confirmed_log'] = get_logs(covid_mex['confirmed'])"
   ]
  },
  {
   "cell_type": "code",
   "execution_count": null,
   "metadata": {},
   "outputs": [],
   "source": [
    "covid_mex['confirmed_logratio'] = abs(covid_mex['confirmed_log'].diff()).fillna(0) \\\n",
    "    .astype(float)"
   ]
  },
  {
   "cell_type": "code",
   "execution_count": null,
   "metadata": {},
   "outputs": [],
   "source": []
  },
  {
   "cell_type": "markdown",
   "metadata": {},
   "source": [
    "_by confirmed pct change_"
   ]
  },
  {
   "cell_type": "code",
   "execution_count": null,
   "metadata": {},
   "outputs": [],
   "source": [
    "covid_mex['confirmed_pct_change_log'] = abs(get_logs(covid_mex['confirmed_pct_change']))"
   ]
  },
  {
   "cell_type": "code",
   "execution_count": null,
   "metadata": {},
   "outputs": [],
   "source": [
    "covid_mex['confirmed_pct_change_logratio'] = abs(covid_mex['confirmed_pct_change_log'].diff()).fillna(0) \\\n",
    "    .astype(float)"
   ]
  },
  {
   "cell_type": "code",
   "execution_count": null,
   "metadata": {},
   "outputs": [],
   "source": []
  },
  {
   "cell_type": "markdown",
   "metadata": {},
   "source": [
    "_by cases pct change_"
   ]
  },
  {
   "cell_type": "code",
   "execution_count": null,
   "metadata": {},
   "outputs": [],
   "source": [
    "covid_mex['cases_pct_change_log'] = abs(get_logs(covid_mex['cases_pct_change']))"
   ]
  },
  {
   "cell_type": "code",
   "execution_count": null,
   "metadata": {},
   "outputs": [],
   "source": [
    "covid_mex['cases_pct_change_logratio'] = abs(covid_mex['cases_pct_change_log'].diff()).fillna(0) \\\n",
    "    .astype(float)"
   ]
  },
  {
   "cell_type": "code",
   "execution_count": null,
   "metadata": {},
   "outputs": [],
   "source": []
  },
  {
   "cell_type": "markdown",
   "metadata": {},
   "source": [
    "`test plot`"
   ]
  },
  {
   "cell_type": "code",
   "execution_count": null,
   "metadata": {},
   "outputs": [],
   "source": [
    "print (covid_mex.columns.tolist())"
   ]
  },
  {
   "cell_type": "code",
   "execution_count": null,
   "metadata": {},
   "outputs": [],
   "source": [
    "x_field = 'day_number_country'\n",
    "y_field = 'cases_pct_change_logratio'\n",
    "\n",
    "# params\n",
    "_dates = False\n",
    "_type = 'line'\n",
    "\n",
    "# dimensions\n",
    "fig, ax = plt.subplots(figsize=(16, 8))\n",
    "\n",
    "# temp df\n",
    "tmp = covid_mex[covid_mex['confirmed'] > 0].copy()\n",
    "\n",
    "# plot\n",
    "sns.regplot(x=x_field, y=y_field, data=tmp, ax=ax)\n",
    "ax.tick_params(direction='out', color='#070733', labelsize=15, labelrotation=0, pad=15)\n",
    "ax.set_ylabel('')\n",
    "ax.set_xlabel('')\n",
    "plt.box(False);"
   ]
  },
  {
   "cell_type": "code",
   "execution_count": null,
   "metadata": {},
   "outputs": [],
   "source": []
  },
  {
   "cell_type": "markdown",
   "metadata": {},
   "source": [
    "`save dataset`"
   ]
  },
  {
   "cell_type": "code",
   "execution_count": null,
   "metadata": {},
   "outputs": [],
   "source": [
    "covid_mex.to_excel('./data/covid_mex.xlsx', index=False)"
   ]
  },
  {
   "cell_type": "code",
   "execution_count": null,
   "metadata": {},
   "outputs": [],
   "source": []
  },
  {
   "cell_type": "markdown",
   "metadata": {},
   "source": [
    "## `Plots`"
   ]
  },
  {
   "cell_type": "markdown",
   "metadata": {},
   "source": [
    "**`New daily cases`**"
   ]
  },
  {
   "cell_type": "code",
   "execution_count": null,
   "metadata": {},
   "outputs": [],
   "source": [
    "# dimensions\n",
    "fig, ax = plt.subplots(figsize=(16, 8))\n",
    "\n",
    "# tmp\n",
    "tmp = covid_mex[covid_mex['day_number_country'] > 0].copy()\n",
    "\n",
    "# plot\n",
    "tmp.plot(x='day_number_country', y='cases', kind='bar', ax=ax, label='Daily Cases in Mexico')\n",
    "ax.tick_params(direction='out', color='#070733', labelsize=15, labelrotation=0, pad=15)\n",
    "ax.set_ylabel('COVID-19 daily cases', labelpad=35, fontsize=18)\n",
    "ax.set_xlabel('Number of days since 1st case in Mexico', labelpad=35, fontsize=18)\n",
    "plt.box(False)\n",
    "plt.legend(prop={'size': 15});"
   ]
  },
  {
   "cell_type": "code",
   "execution_count": null,
   "metadata": {},
   "outputs": [],
   "source": []
  }
 ],
 "metadata": {
  "kernelspec": {
   "display_name": "Python 3",
   "language": "python",
   "name": "python3"
  },
  "language_info": {
   "codemirror_mode": {
    "name": "ipython",
    "version": 3
   },
   "file_extension": ".py",
   "mimetype": "text/x-python",
   "name": "python",
   "nbconvert_exporter": "python",
   "pygments_lexer": "ipython3",
   "version": "3.7.3"
  }
 },
 "nbformat": 4,
 "nbformat_minor": 2
}
