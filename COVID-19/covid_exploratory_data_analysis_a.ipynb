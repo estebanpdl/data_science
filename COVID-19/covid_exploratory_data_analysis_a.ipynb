{
 "cells": [
  {
   "cell_type": "code",
   "execution_count": null,
   "metadata": {},
   "outputs": [],
   "source": [
    "# warnings\n",
    "import warnings\n",
    "warnings.filterwarnings('ignore')\n",
    "\n",
    "# import modules\n",
    "import pandas as pd\n",
    "import numpy as np\n",
    "import datetime\n",
    "import glob\n",
    "import os\n",
    "from datetime import timedelta\n",
    "\n",
    "# sklearn\n",
    "from sklearn.preprocessing import minmax_scale\n",
    "\n",
    "\n",
    "# plots\n",
    "import matplotlib\n",
    "import matplotlib.pyplot as plt\n",
    "import matplotlib.dates as mdates\n",
    "import seaborn as sns\n",
    "\n",
    "%matplotlib inline\n",
    "matplotlib.style.use('seaborn-ticks')"
   ]
  },
  {
   "cell_type": "markdown",
   "metadata": {},
   "source": [
    "## `read COVID-19 datasets`"
   ]
  },
  {
   "cell_type": "code",
   "execution_count": null,
   "metadata": {},
   "outputs": [],
   "source": [
    "path = './data/*.csv'\n",
    "files = glob.glob(os.path.join(path))\n",
    "print (files)"
   ]
  },
  {
   "cell_type": "code",
   "execution_count": null,
   "metadata": {},
   "outputs": [],
   "source": [
    "datasets = {}\n",
    "for f in files:\n",
    "    filename = f.split('\\\\')[-1].split('.')[0]\n",
    "    d = pd.read_csv(f, encoding='utf-8')\n",
    "    datasets[filename] = d"
   ]
  },
  {
   "cell_type": "code",
   "execution_count": null,
   "metadata": {},
   "outputs": [],
   "source": [
    "key = 'covid_19_data'\n",
    "datasets[key].head()"
   ]
  },
  {
   "cell_type": "code",
   "execution_count": null,
   "metadata": {},
   "outputs": [],
   "source": [
    "datasets[key].columns = [i.lower() for i in datasets[key].columns]"
   ]
  },
  {
   "cell_type": "code",
   "execution_count": null,
   "metadata": {},
   "outputs": [],
   "source": [
    "# fillna values -> 0 [confirmed, deaths, recovered] -> astype INT\n",
    "cols = ['confirmed', 'deaths', 'recovered']\n",
    "for c in cols:\n",
    "    datasets[key][c] = datasets[key][c].fillna(0)\n",
    "    datasets[key][c] = datasets[key][c].astype(int)\n",
    "    \n",
    "datasets[key].head(1)"
   ]
  },
  {
   "cell_type": "code",
   "execution_count": null,
   "metadata": {},
   "outputs": [],
   "source": [
    "# build date\n",
    "datasets[key]['date'] = pd.to_datetime(datasets[key]['observationdate'])"
   ]
  },
  {
   "cell_type": "code",
   "execution_count": null,
   "metadata": {},
   "outputs": [],
   "source": [
    "datasets[key]['country/region'] = [\n",
    "    ' '.join(i.split()).strip() for i in datasets[key]['country/region']\n",
    "]"
   ]
  },
  {
   "cell_type": "code",
   "execution_count": null,
   "metadata": {},
   "outputs": [],
   "source": [
    "df = datasets[key].groupby(['country/region', 'date']) \\\n",
    "    .agg(\n",
    "        {\n",
    "            'confirmed': sum,\n",
    "            'deaths': sum,\n",
    "            'recovered': sum\n",
    "        }\n",
    "    ) \\\n",
    "    .reset_index()\n",
    "\n",
    "df.shape"
   ]
  },
  {
   "cell_type": "code",
   "execution_count": null,
   "metadata": {},
   "outputs": [],
   "source": [
    "df.head()"
   ]
  },
  {
   "cell_type": "code",
   "execution_count": null,
   "metadata": {},
   "outputs": [],
   "source": [
    "# fix names\n",
    "df.loc[df['country/region'] == 'US', 'country/region'] = 'United States'\n",
    "df.loc[df['country/region'] == 'Mainland China', 'country/region'] = 'China'\n",
    "df.loc[df['country/region'] == 'UK', 'country/region'] = 'United Kingdom'\n",
    "df.loc[df['country/region'] == \"('St. Martin',)\", 'country/region'] = 'St. Martin'"
   ]
  },
  {
   "cell_type": "code",
   "execution_count": null,
   "metadata": {},
   "outputs": [],
   "source": [
    "# number of countries\n",
    "print (f\"Number of countries: {df['country/region'].unique().shape[0]}\")"
   ]
  },
  {
   "cell_type": "code",
   "execution_count": null,
   "metadata": {},
   "outputs": [],
   "source": [
    "df = df.sort_values(by=['country/region', 'date']) \\\n",
    "    .reset_index(drop=True)\n",
    "df.shape"
   ]
  },
  {
   "cell_type": "code",
   "execution_count": null,
   "metadata": {},
   "outputs": [],
   "source": [
    "df.head()"
   ]
  },
  {
   "cell_type": "code",
   "execution_count": null,
   "metadata": {},
   "outputs": [],
   "source": [
    "# Fix dates -> adding missing intervals\n",
    "store_frames = []\n",
    "\n",
    "# create time frame\n",
    "default = pd.date_range(\n",
    "    start=sorted(df['date'].tolist())[0],\n",
    "    end=sorted(df['date'].tolist())[-1],\n",
    "    freq='D'\n",
    ").values\n",
    "default = [pd.to_datetime(i) for i in default]\n",
    "\n",
    "# iterate over countries\n",
    "for country in df['country/region'].unique():\n",
    "    d = df[df['country/region'] == country]\n",
    "    serie = sorted(d['date'].tolist())\n",
    "    s1 = serie[0]\n",
    "    idx = default.index(s1)\n",
    "    \n",
    "    # check if series match in length\n",
    "    match = len(serie) == len(default)\n",
    "    if not match:\n",
    "        \n",
    "        # temporal dataframe\n",
    "        tmp = pd.DataFrame(\n",
    "            {\n",
    "                'date': default\n",
    "            }\n",
    "        )\n",
    "        tmp['country/region'] = country\n",
    "        \n",
    "        # merge frames\n",
    "        d = tmp.merge(d, how='left') \\\n",
    "            .reset_index(drop=True)\n",
    "        \n",
    "        # iterate rows\n",
    "        for row in range(d.shape[0]):\n",
    "            if row < idx:\n",
    "                d['confirmed'].iloc[row] = 0\n",
    "                d['deaths'].iloc[row] = 0\n",
    "                d['recovered'].iloc[row] = 0\n",
    "            else:\n",
    "                break\n",
    "        \n",
    "        # confirmed\n",
    "        d['confirmed'] = d['confirmed'].fillna(method='ffill')\n",
    "        d['confirmed'] = d['confirmed'].astype(int)\n",
    "        \n",
    "        # deaths\n",
    "        d['deaths'] = d['deaths'].fillna(method='ffill')\n",
    "        d['deaths'] = d['deaths'].astype(int)\n",
    "        \n",
    "        # recovered\n",
    "        d['recovered'] = d['recovered'].fillna(method='ffill')\n",
    "        d['recovered'] = d['recovered'].astype(int)\n",
    "    \n",
    "    # Fix confirmed cases\n",
    "    values = d['confirmed'].tolist()\n",
    "    store_values = []\n",
    "    i = 0\n",
    "    N = d.shape[0]\n",
    "    store_values.append(values[i])\n",
    "    for j in values:\n",
    "        if i + 1 != N:\n",
    "            v1 = store_values[i]\n",
    "            v2 = values[i + 1]\n",
    "            if v2 < v1:\n",
    "                v2 = v1\n",
    "        \n",
    "            # sotore value\n",
    "            store_values.append(v2)\n",
    "            i += 1\n",
    "    \n",
    "    # add values\n",
    "    d['confirmed'] = store_values\n",
    "    \n",
    "    # store frame\n",
    "    store_frames.append(d)\n",
    "\n",
    "# concat frames\n",
    "df = pd.concat(store_frames, sort=True) \\\n",
    "    .sort_values(by=['country/region', 'date']) \\\n",
    "    .reset_index(drop=True)\n",
    "\n",
    "# add outbreak\n",
    "df['outbreak'] = 'COVID-19'\n",
    "df.shape"
   ]
  },
  {
   "cell_type": "code",
   "execution_count": null,
   "metadata": {},
   "outputs": [],
   "source": [
    "df.head()"
   ]
  },
  {
   "cell_type": "code",
   "execution_count": null,
   "metadata": {},
   "outputs": [],
   "source": []
  },
  {
   "cell_type": "markdown",
   "metadata": {},
   "source": [
    "### `Get cases and cumsum`"
   ]
  },
  {
   "cell_type": "code",
   "execution_count": null,
   "metadata": {},
   "outputs": [],
   "source": [
    "store_frames = []\n",
    "for country in df['country/region'].unique():\n",
    "    d = df[df['country/region'] == country] \\\n",
    "        .sort_values(by='date') \\\n",
    "        .reset_index(drop=True)\n",
    "    cases, cumsum, n_days = [], [], []\n",
    "    j = 0\n",
    "    n = 0\n",
    "    cases.append(d['confirmed'].iloc[0])\n",
    "    cumsum.append(d['confirmed'].iloc[0])\n",
    "    n_days.append(n)\n",
    "    for i in d['date'].unique():\n",
    "        if j + 1 < d.shape[0]:\n",
    "            val = d['confirmed'].iloc[j]\n",
    "            diff = d['confirmed'].iloc[j + 1] - val\n",
    "            cums = diff + val\n",
    "            cases.append(diff)\n",
    "            cumsum.append(cums)\n",
    "\n",
    "            j += 1\n",
    "            \n",
    "            # add days after first case was detected in country\n",
    "            if val > 0:\n",
    "                n += 1\n",
    "            \n",
    "            n_days.append(n)\n",
    "    \n",
    "    d['cases'] = cases\n",
    "    d['cumsum'] = cumsum\n",
    "    d['day_number'] = range(1, len(default) + 1)\n",
    "    d['day_number_country'] = n_days\n",
    "    store_frames.append(d)\n",
    "\n",
    "# concat data\n",
    "df = pd.concat(store_frames, sort=True) \\\n",
    "    .reset_index(drop=True)\n",
    "\n",
    "df.shape"
   ]
  },
  {
   "cell_type": "code",
   "execution_count": null,
   "metadata": {},
   "outputs": [],
   "source": [
    "df['week'] = df['date'].dt.week"
   ]
  },
  {
   "cell_type": "code",
   "execution_count": null,
   "metadata": {},
   "outputs": [],
   "source": [
    "df = df.sort_values(by=['country/region', 'date']) \\\n",
    "    .reset_index(drop=True)\n",
    "df.shape"
   ]
  },
  {
   "cell_type": "code",
   "execution_count": null,
   "metadata": {},
   "outputs": [],
   "source": [
    "df.head(2)"
   ]
  },
  {
   "cell_type": "code",
   "execution_count": null,
   "metadata": {},
   "outputs": [],
   "source": [
    "df.tail(2)"
   ]
  },
  {
   "cell_type": "code",
   "execution_count": null,
   "metadata": {},
   "outputs": [],
   "source": []
  },
  {
   "cell_type": "markdown",
   "metadata": {},
   "source": [
    "## `group by country`"
   ]
  },
  {
   "cell_type": "code",
   "execution_count": null,
   "metadata": {},
   "outputs": [],
   "source": [
    "df.groupby('country/region').agg({'cases': sum}) \\\n",
    "    .reset_index() \\\n",
    "    .sort_values(by='cases', ascending=False) \\\n",
    "    .reset_index(drop=True) \\\n",
    "    [['country/region', 'cases']].head(10)"
   ]
  },
  {
   "cell_type": "code",
   "execution_count": null,
   "metadata": {},
   "outputs": [],
   "source": [
    "df[df['country/region'].isin(\n",
    "    ['Brazil', 'Chile', 'Mexico', 'Colombia',\n",
    "     'Peru', 'Ecuador', 'Panama', 'Argentina',\n",
    "     'Venezuela', 'Costa Rica']\n",
    ")].groupby('country/region').agg({'cases': sum}) \\\n",
    "    .reset_index() \\\n",
    "    .sort_values(by='cases', ascending=False) \\\n",
    "    .reset_index(drop=True) \\\n",
    "    [['country/region', 'cases']].head(10)"
   ]
  },
  {
   "cell_type": "markdown",
   "metadata": {},
   "source": [
    "## `add new data  ---> manually`"
   ]
  },
  {
   "cell_type": "code",
   "execution_count": null,
   "metadata": {},
   "outputs": [],
   "source": [
    "df[df['country/region'] == 'Colombia']['confirmed'].iloc[-1],df[df['country/region'] == 'Ecuador']['date'].iloc[-1]"
   ]
  },
  {
   "cell_type": "code",
   "execution_count": null,
   "metadata": {},
   "outputs": [],
   "source": [
    "def add_new_data(d, main):\n",
    "    '''\n",
    "    '''\n",
    "    m = main.copy()\n",
    "    d = pd.DataFrame(d)\n",
    "    d['date'] = pd.to_datetime(d['date'])\n",
    "    d['outbreak'] = 'COVID-19'\n",
    "    d['week'] = d['date'].dt.week\n",
    "    \n",
    "    get_countries = d['country/region'].unique().tolist()\n",
    "    frames = []\n",
    "    for c in get_countries:\n",
    "        \n",
    "        # add values\n",
    "        data = m[m['country/region'] == c]\n",
    "        temp = d[d['country/region'] == c]\n",
    "        \n",
    "        temp['day_number'] = data['day_number'].iloc[-1] + 1\n",
    "        temp['day_number_country'] = data['day_number_country'].iloc[-1] + 1\n",
    "        \n",
    "        # cumsum, cases\n",
    "        diff = temp['confirmed'].iloc[0] - data['confirmed'].iloc[-1]\n",
    "        cums = diff + data['confirmed'].iloc[-1]\n",
    "        temp['cases'] = diff\n",
    "        temp['cumsum'] = cums\n",
    "        frames.append(temp)\n",
    "    \n",
    "    d = pd.concat(frames, sort=True) \\\n",
    "        .reset_index(drop=True)\n",
    "    \n",
    "    return pd.concat([m, d], sort=True) \\\n",
    "            .sort_values(by=['country/region', 'date']) \\\n",
    "            .reset_index(drop=True)"
   ]
  },
  {
   "cell_type": "code",
   "execution_count": null,
   "metadata": {},
   "outputs": [],
   "source": [
    "new_data = [\n",
    "    {\n",
    "        'date': '2020-03-27',\n",
    "        'country/region': 'Mexico',\n",
    "        'confirmed': 585,\n",
    "        'deaths': 8,\n",
    "        'recovered': 4\n",
    "    },\n",
    "    {\n",
    "        'date': '2020-03-27',\n",
    "        'country/region': 'Colombia',\n",
    "        'confirmed': 491,\n",
    "        'deaths': 6,\n",
    "        'recovered': 8    \n",
    "    }\n",
    "]"
   ]
  },
  {
   "cell_type": "code",
   "execution_count": null,
   "metadata": {},
   "outputs": [],
   "source": [
    "df = add_new_data(new_data, df)"
   ]
  },
  {
   "cell_type": "code",
   "execution_count": null,
   "metadata": {},
   "outputs": [],
   "source": [
    "df.shape"
   ]
  },
  {
   "cell_type": "code",
   "execution_count": null,
   "metadata": {},
   "outputs": [],
   "source": []
  },
  {
   "cell_type": "markdown",
   "metadata": {},
   "source": [
    "## `new confirmed cases`"
   ]
  },
  {
   "cell_type": "code",
   "execution_count": null,
   "metadata": {},
   "outputs": [],
   "source": [
    "c1 = [\n",
    "    'Mexico', 'Colombia'\n",
    "]"
   ]
  },
  {
   "cell_type": "code",
   "execution_count": null,
   "metadata": {
    "scrolled": false
   },
   "outputs": [],
   "source": [
    "tmp = df[df['country/region'].isin(c1)]\n",
    "\n",
    "# plot\n",
    "g = sns.FacetGrid(tmp, col='country/region', hue='country/region',\n",
    "                  sharey=False, col_wrap=2, aspect=1.7, height=6)\n",
    "g.map(plt.plot, 'date', 'cases')\n",
    "g.set_xticklabels(rotation=90);"
   ]
  },
  {
   "cell_type": "code",
   "execution_count": null,
   "metadata": {},
   "outputs": [],
   "source": [
    "df.head(1)"
   ]
  },
  {
   "cell_type": "code",
   "execution_count": null,
   "metadata": {},
   "outputs": [],
   "source": []
  },
  {
   "cell_type": "markdown",
   "metadata": {},
   "source": [
    "`compare countries with Italy`"
   ]
  },
  {
   "cell_type": "code",
   "execution_count": null,
   "metadata": {},
   "outputs": [],
   "source": [
    "x1 = 'Mexico'\n",
    "y1 = 'Colombia'\n",
    "x = df[\n",
    "    (df['country/region'] == x1) &\n",
    "    (df['day_number_country'] > 0)\n",
    "].groupby('day_number_country').agg({'confirmed': sum})\n",
    "y = df[\n",
    "    (df['country/region'] == y1) &\n",
    "    (df['day_number_country'] > 0)\n",
    "].groupby('day_number_country').agg({'confirmed': sum})"
   ]
  },
  {
   "cell_type": "code",
   "execution_count": null,
   "metadata": {},
   "outputs": [],
   "source": [
    "fig, ax = plt.subplots(figsize=(16, 6))\n",
    "ax.plot(x, label=x1, linewidth=1.5, alpha=0.8, color='#0BBA17')\n",
    "ax.plot(y, label=y1, linewidth=1.5, alpha=0.8, color='yellow')\n",
    "ax.tick_params(direction='in', color='#070733', labelsize=10, labelrotation=0, pad=10)\n",
    "ax.set_ylabel('Casos confirmados', labelpad=35)\n",
    "ax.set_xlabel('Numero de dias', labelpad=35)\n",
    "plt.yscale('symlog', nonposy='clip')\n",
    "plt.box(False)\n",
    "ax.legend();"
   ]
  },
  {
   "cell_type": "code",
   "execution_count": null,
   "metadata": {},
   "outputs": [],
   "source": []
  },
  {
   "cell_type": "code",
   "execution_count": null,
   "metadata": {},
   "outputs": [],
   "source": []
  },
  {
   "cell_type": "code",
   "execution_count": null,
   "metadata": {},
   "outputs": [],
   "source": []
  },
  {
   "cell_type": "code",
   "execution_count": null,
   "metadata": {},
   "outputs": [],
   "source": []
  },
  {
   "cell_type": "code",
   "execution_count": null,
   "metadata": {},
   "outputs": [],
   "source": []
  },
  {
   "cell_type": "code",
   "execution_count": null,
   "metadata": {},
   "outputs": [],
   "source": []
  },
  {
   "cell_type": "code",
   "execution_count": null,
   "metadata": {},
   "outputs": [],
   "source": [
    "df[\n",
    "    (df['country/region'] == 'Colombia') &\n",
    "    (df['day_number_country'] > 0) &\n",
    "    (df['day_number_country'] < 22)\n",
    "] \\\n",
    "    .plot(x='day_number_country', y='confirmed', kind='bar')"
   ]
  },
  {
   "cell_type": "code",
   "execution_count": null,
   "metadata": {},
   "outputs": [],
   "source": []
  },
  {
   "cell_type": "code",
   "execution_count": null,
   "metadata": {},
   "outputs": [],
   "source": []
  },
  {
   "cell_type": "code",
   "execution_count": null,
   "metadata": {},
   "outputs": [],
   "source": []
  },
  {
   "cell_type": "code",
   "execution_count": null,
   "metadata": {},
   "outputs": [],
   "source": []
  },
  {
   "cell_type": "code",
   "execution_count": null,
   "metadata": {},
   "outputs": [],
   "source": []
  },
  {
   "cell_type": "code",
   "execution_count": null,
   "metadata": {},
   "outputs": [],
   "source": []
  },
  {
   "cell_type": "code",
   "execution_count": null,
   "metadata": {},
   "outputs": [],
   "source": []
  },
  {
   "cell_type": "code",
   "execution_count": null,
   "metadata": {},
   "outputs": [],
   "source": [
    "g1 = MEX.groupby('Date') \\\n",
    "    .agg(\n",
    "        {\n",
    "            'Cases': 'mean'\n",
    "        }\n",
    "    )\n",
    "g1.index = pd.DatetimeIndex(g1.index)\n",
    "\n",
    "g2 = df[df['Country/Region'] == 'Colombia'].groupby('Date') \\\n",
    "    .agg(\n",
    "        {\n",
    "            'Cases': 'mean'\n",
    "        }\n",
    "    )\n",
    "g2.index = pd.DatetimeIndex(g2.index)"
   ]
  },
  {
   "cell_type": "code",
   "execution_count": null,
   "metadata": {},
   "outputs": [],
   "source": [
    "MEX.tail()"
   ]
  },
  {
   "cell_type": "code",
   "execution_count": null,
   "metadata": {},
   "outputs": [],
   "source": [
    "# plot\n",
    "fig, ax = plt.subplots(figsize=(16,6))\n",
    "\n",
    "# Mexico\n",
    "ax.plot(g1, label='Mexico', linewidth=2, alpha=0.7, color='#09799C', marker='.')\n",
    "\n",
    "# Colombia\n",
    "# x.plot(g2, label='Colombia', linewidth=2, alpha=0.7, color='#FDA50F', marker='.')\n",
    "\n",
    "# parameters\n",
    "ax.xaxis.set_major_locator(mdates.DayLocator(interval=5))\n",
    "ax.xaxis.set_major_formatter(mdates.DateFormatter('%b %d'))\n",
    "ax.tick_params(direction='out', color='#070733', labelsize=16, rotation=0, pad=20)\n",
    "ax.legend(loc='best', fontsize=16)\n",
    "ax.set_xlabel('')\n",
    "plt.box(False);"
   ]
  },
  {
   "cell_type": "code",
   "execution_count": null,
   "metadata": {},
   "outputs": [],
   "source": [
    "# plot\n",
    "fig, ax = plt.subplots(figsize=(16,8))\n",
    "\n",
    "# Colombia\n",
    "ax.plot(g2, label='Colombia', linewidth=2, alpha=0.7, color='#FDA50F', marker='.')\n",
    "\n",
    "\n",
    "# parameters\n",
    "ax.xaxis.set_major_locator(mdates.DayLocator(interval=5))\n",
    "ax.xaxis.set_major_formatter(mdates.DateFormatter('%b %d'))\n",
    "ax.tick_params(direction='out', color='#070733', labelsize=16, rotation=0, pad=20)\n",
    "ax.legend(loc='best', fontsize=16)\n",
    "ax.set_xlabel('')\n",
    "plt.box(False);"
   ]
  },
  {
   "cell_type": "code",
   "execution_count": null,
   "metadata": {},
   "outputs": [],
   "source": []
  },
  {
   "cell_type": "code",
   "execution_count": null,
   "metadata": {},
   "outputs": [],
   "source": []
  },
  {
   "cell_type": "code",
   "execution_count": null,
   "metadata": {},
   "outputs": [],
   "source": []
  },
  {
   "cell_type": "code",
   "execution_count": null,
   "metadata": {},
   "outputs": [],
   "source": []
  },
  {
   "cell_type": "code",
   "execution_count": null,
   "metadata": {},
   "outputs": [],
   "source": []
  },
  {
   "cell_type": "code",
   "execution_count": null,
   "metadata": {},
   "outputs": [],
   "source": []
  },
  {
   "cell_type": "code",
   "execution_count": null,
   "metadata": {},
   "outputs": [],
   "source": []
  },
  {
   "cell_type": "code",
   "execution_count": null,
   "metadata": {},
   "outputs": [],
   "source": []
  },
  {
   "cell_type": "markdown",
   "metadata": {},
   "source": [
    "    MEX = MEX.append(pd.Series(\n",
    "        {\n",
    "            'SNo': 0,\n",
    "            'ObservationDate': '03/20/2020',\n",
    "            'Province/State': None,\n",
    "            'Country/Region': 'Mexico',\n",
    "            'Last Update': '2020-03-20T10:53:02',\n",
    "            'Confirmed': 164,\n",
    "            'Deaths': 1,\n",
    "            'Recovered': 4,\n",
    "            'Date': '2020-03-20'\n",
    "        }\n",
    "    ), ignore_index=True)"
   ]
  },
  {
   "cell_type": "markdown",
   "metadata": {},
   "source": [
    "    MEX['Date'] = pd.to_datetime(MEX['ObservationDate'])"
   ]
  },
  {
   "cell_type": "markdown",
   "metadata": {},
   "source": [
    "    MEX = MEX.sort_values(by=['Country/Region', 'Date']) \\\n",
    "        .reset_index(drop=True)\n",
    "    MEX.shape"
   ]
  },
  {
   "cell_type": "markdown",
   "metadata": {},
   "source": [
    "    MEX = MEX.groupby(['Country/Region', 'Date']) \\\n",
    "        .agg(\n",
    "            {\n",
    "                'Confirmed': sum,\n",
    "                'Deaths': sum,\n",
    "                'Recovered': sum\n",
    "            }\n",
    "        ) \\\n",
    "        .reset_index()\n",
    "\n",
    "    MEX.shape"
   ]
  },
  {
   "cell_type": "markdown",
   "metadata": {},
   "source": [
    "    # Fix dates -> adding missing intervals\n",
    "    store_frames = []\n",
    "\n",
    "    # create time frame\n",
    "    default = pd.date_range(\n",
    "        start=pd.to_datetime('2020-01-22'),\n",
    "        end=pd.to_datetime('2020-03-20'),\n",
    "        freq='D'\n",
    "    ).values\n",
    "    default = [pd.to_datetime(i) for i in default]\n",
    "\n",
    "\n",
    "    serie = sorted(MEX['Date'].tolist())\n",
    "    s1 = serie[0]\n",
    "    idx = default.index(s1)\n",
    "\n",
    "    # check if series match in length\n",
    "    match = len(serie) == len(default)\n",
    "    if not match:\n",
    "\n",
    "        # temporal dataframe\n",
    "        tmp = pd.DataFrame(\n",
    "            {\n",
    "                'Date': default\n",
    "            }\n",
    "        )\n",
    "        tmp['Country/Region'] = country\n",
    "\n",
    "        # merge frames\n",
    "        MEX = tmp.merge(MEX, how='left') \\\n",
    "            .reset_index(drop=True)\n",
    "\n",
    "        # iterate rows\n",
    "        for row in range(MEX.shape[0]):\n",
    "            if row < idx:\n",
    "                MEX['Confirmed'].iloc[row] = 0\n",
    "                MEX['Deaths'].iloc[row] = 0\n",
    "                MEX['Recovered'].iloc[row] = 0\n",
    "            else:\n",
    "                break\n",
    "\n",
    "        # confirmed\n",
    "        MEX['Confirmed'] = MEX['Confirmed'].fillna(method='ffill')\n",
    "        MEX['Confirmed'] = MEX['Confirmed'].astype(int)\n",
    "\n",
    "        # deaths\n",
    "        MEX['Deaths'] = MEX['Deaths'].fillna(method='ffill')\n",
    "        MEX['Deaths'] = MEX['Deaths'].astype(int)\n",
    "\n",
    "        # recovered\n",
    "        MEX['Recovered'] = MEX['Recovered'].fillna(method='ffill')\n",
    "        MEX['Recovered'] = MEX['Recovered'].astype(int)\n",
    "\n",
    "        # Fix confirmed cases\n",
    "        values = MEX['Confirmed'].tolist()\n",
    "        store_values = []\n",
    "        i = 0\n",
    "        N = MEX.shape[0]\n",
    "        store_values.append(values[i])\n",
    "        for j in values:\n",
    "            if i + 1 != N:\n",
    "                v1 = store_values[i]\n",
    "                v2 = values[i + 1]\n",
    "                if v2 < v1:\n",
    "                    v2 = v1\n",
    "\n",
    "                # sotore value\n",
    "                store_values.append(v2)\n",
    "                i += 1\n",
    "\n",
    "        # add values\n",
    "        MEX['Confirmed'] = store_values\n",
    "\n",
    "        # Min Max scale\n",
    "        MEX['Confirmed_scale'] = minmax_scale(MEX['Confirmed'])\n",
    "\n",
    "\n",
    "    MEX['Outbreak'] = 'COVID-19'\n",
    "    MEX.shape"
   ]
  }
 ],
 "metadata": {
  "kernelspec": {
   "display_name": "Python 3",
   "language": "python",
   "name": "python3"
  },
  "language_info": {
   "codemirror_mode": {
    "name": "ipython",
    "version": 3
   },
   "file_extension": ".py",
   "mimetype": "text/x-python",
   "name": "python",
   "nbconvert_exporter": "python",
   "pygments_lexer": "ipython3",
   "version": "3.7.3"
  }
 },
 "nbformat": 4,
 "nbformat_minor": 2
}
